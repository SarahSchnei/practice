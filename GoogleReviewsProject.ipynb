{
  "nbformat": 4,
  "nbformat_minor": 0,
  "metadata": {
    "colab": {
      "name": "GoogleReviewsProject",
      "version": "0.3.2",
      "provenance": [],
      "collapsed_sections": [],
      "include_colab_link": true
    },
    "kernelspec": {
      "name": "python3",
      "display_name": "Python 3"
    }
  },
  "cells": [
    {
      "cell_type": "markdown",
      "metadata": {
        "id": "view-in-github",
        "colab_type": "text"
      },
      "source": [
        "<a href=\"https://colab.research.google.com/github/SarahSchnei/practice/blob/master/GoogleReviewsProject.ipynb\" target=\"_parent\"><img src=\"https://colab.research.google.com/assets/colab-badge.svg\" alt=\"Open In Colab\"/></a>"
      ]
    },
    {
      "cell_type": "markdown",
      "metadata": {
        "id": "5OajLPn-hxIh",
        "colab_type": "text"
      },
      "source": [
        "## A look at Google Reviews Ratings and average aages in Baton Rouge's fast food restraunts"
      ]
    },
    {
      "cell_type": "markdown",
      "metadata": {
        "id": "pS0skCY0et41",
        "colab_type": "text"
      },
      "source": [
        "I wondered if there was a relationship between a fast food worker's level of pay and the overall service of their restaurant. Measuring actual service level is tricky, so I decided to settle for my own most trusted source for researching places to eat: Google Reviews. Luckily, Google has an army of handy APIs full of information ready to be scraped. I decided to gather the data, reviews, and ratings for 10 of the most popular fast food restaurants in Baton Rouge from Google's Places API, and gathered average entry level wages and average manager salaries for those restaurants in Baton Rouge from Glassdoor.com."
      ]
    },
    {
      "cell_type": "code",
      "metadata": {
        "id": "MzeEcUs8xj_A",
        "colab_type": "code",
        "colab": {}
      },
      "source": [
        "gAPIkey= apikey"
      ],
      "execution_count": 0,
      "outputs": []
    },
    {
      "cell_type": "code",
      "metadata": {
        "id": "fh-fuHOL4XUc",
        "colab_type": "code",
        "colab": {}
      },
      "source": [
        "import pandas as pd\n",
        "import re\n",
        "!pip install googlemaps\n",
        "\n",
        "import googlemaps\n",
        "!pip install python-google-places\n",
        "\n",
        "from googleplaces import GooglePlaces, types, lang"
      ],
      "execution_count": 0,
      "outputs": []
    },
    {
      "cell_type": "code",
      "metadata": {
        "id": "HCVf1d7Pxv-V",
        "colab_type": "code",
        "colab": {}
      },
      "source": [
        "google_places = GooglePlaces(gAPIkey)"
      ],
      "execution_count": 0,
      "outputs": []
    },
    {
      "cell_type": "markdown",
      "metadata": {
        "id": "x84C-4cfpiM_",
        "colab_type": "text"
      },
      "source": [
        "First, I'm going to build a few functions that will take the work of getting the data from Google's API a snap. I tried doing this by hand but quickly realized how tedious and error prone it was."
      ]
    },
    {
      "cell_type": "code",
      "metadata": {
        "id": "u4LYYdtIgvVa",
        "colab_type": "code",
        "colab": {}
      },
      "source": [
        "def get_placeID(keyword):\n",
        "  query_results = google_places.nearby_search(location='Baton Rouge, Louisiana', keyword=keyword, radius=50000)\n",
        "  keywordplaceID = []\n",
        "  for place in query_results.places:\n",
        "    keywordplaceID.append(place.place_id)\n",
        "  return keywordplaceID\n",
        "\n",
        "def get_ratingslist(x):\n",
        "  ratingslist = []\n",
        "  for i in x:\n",
        "    query_result = google_places.get_place(place_id=i)\n",
        "    query_result.get_details()\n",
        "    ratingslist.append(query_result.rating)\n",
        "  return ratingslist\n",
        "\n",
        "def get_reviewslist(x):\n",
        "  reviewslist = []\n",
        "  for i in x:\n",
        "    query_result = google_places.get_place(place_id=i)\n",
        "    query_result.get_details()\n",
        "    reviewslist.append(query_result.details)\n",
        "  return reviewslist\n",
        "\n",
        "def get_ratings_avg(ratinglist):\n",
        "  x =[float(s) for s in re.findall(r'-?\\d+\\.?\\d*', str(ratinglist))]\n",
        "  y = sum(x)/len(x)\n",
        "  return y\n",
        "\n",
        "def get_reviewslist(x):\n",
        "  reviewslist = []\n",
        "  for i in x:\n",
        "    query_result = google_places.get_place(place_id=i)\n",
        "    query_result.get_details()\n",
        "    reviewslist.append(query_result.details)\n",
        "    df2 = pd.DataFrame(reviewslist)\n",
        "    reviewsdf = df2.reviews\n",
        "  return reviewsdf"
      ],
      "execution_count": 0,
      "outputs": []
    },
    {
      "cell_type": "code",
      "metadata": {
        "id": "WwSv4H4ZY9Iv",
        "colab_type": "code",
        "colab": {}
      },
      "source": [
        "x = get_placeID('Starbucks')\n",
        "sbuxreviews = get_reviewslist(x)\n",
        "sbuxratings = get_ratingslist(x)\n",
        "sbuxaveragerating = get_ratings_avg(sbuxratings)"
      ],
      "execution_count": 0,
      "outputs": []
    },
    {
      "cell_type": "code",
      "metadata": {
        "id": "Wfcp1C2bZ4Oj",
        "colab_type": "code",
        "colab": {}
      },
      "source": [
        "x = get_placeID('Mcdonalds')\n",
        "McDonaldsreviews = get_reviewslist(x)\n",
        "McDonaldsratings = get_ratingslist(x)\n",
        "McDonaldsaveragerating = get_ratings_avg(McDonaldsratings)"
      ],
      "execution_count": 0,
      "outputs": []
    },
    {
      "cell_type": "code",
      "metadata": {
        "id": "OPNLU_5UZ4ZI",
        "colab_type": "code",
        "colab": {}
      },
      "source": [
        "x = get_placeID('Rasing Canes')\n",
        "Canesreviews = get_reviewslist(x)\n",
        "Canesratings = get_ratingslist(x)\n",
        "Canesaveragerating = get_ratings_avg(Canesratings)"
      ],
      "execution_count": 0,
      "outputs": []
    },
    {
      "cell_type": "code",
      "metadata": {
        "id": "zOdYs5uRZ4iv",
        "colab_type": "code",
        "colab": {}
      },
      "source": [
        "x = get_placeID('Taco Bell')\n",
        "TacoBellreviews = get_reviewslist(x)\n",
        "TacoBellratings = get_ratingslist(x)\n",
        "TacoBellaveragerating = get_ratings_avg(TacoBellratings)"
      ],
      "execution_count": 0,
      "outputs": []
    },
    {
      "cell_type": "code",
      "metadata": {
        "id": "Zy99lR7hZ4so",
        "colab_type": "code",
        "colab": {}
      },
      "source": [
        "x = get_placeID('Subway')\n",
        "Subwayreviews = get_reviewslist(x)\n",
        "Subwayratings = get_ratingslist(x)\n",
        "Subwayaveragerating = get_ratings_avg(Subwayratings)"
      ],
      "execution_count": 0,
      "outputs": []
    },
    {
      "cell_type": "code",
      "metadata": {
        "id": "96lee2IUax1H",
        "colab_type": "code",
        "colab": {}
      },
      "source": [
        "x = get_placeID('Five Guys')\n",
        "FGreviews = get_reviewslist(x)\n",
        "FGratings = get_ratingslist(x)\n",
        "FGaveragerating = get_ratings_avg(FGratings)"
      ],
      "execution_count": 0,
      "outputs": []
    },
    {
      "cell_type": "code",
      "metadata": {
        "id": "IWNsTygYa9Su",
        "colab_type": "code",
        "colab": {}
      },
      "source": [
        "x = get_placeID('CCs Coffeehouse')\n",
        "CCreviews = get_reviewslist(x)\n",
        "CCratings = get_ratingslist(x)\n",
        "CCaveragerating = get_ratings_avg(CCratings)"
      ],
      "execution_count": 0,
      "outputs": []
    },
    {
      "cell_type": "code",
      "metadata": {
        "id": "XQy-wV5AbRHX",
        "colab_type": "code",
        "colab": {}
      },
      "source": [
        "x = get_placeID('Chipotle')\n",
        "Chipotlereviews = get_reviewslist(x)\n",
        "Chipotleratings = get_ratingslist(x)\n",
        "Chipotleaveragerating = get_ratings_avg(Chipotleratings)"
      ],
      "execution_count": 0,
      "outputs": []
    },
    {
      "cell_type": "code",
      "metadata": {
        "id": "hoKQxpwNbcGo",
        "colab_type": "code",
        "colab": {}
      },
      "source": [
        "x = get_placeID('Izzos')\n",
        "Izzosreviews = get_reviewslist(x)\n",
        "Izzosratings = get_ratingslist(x)\n",
        "Izzosaveragerating = get_ratings_avg(Izzosratings)"
      ],
      "execution_count": 0,
      "outputs": []
    },
    {
      "cell_type": "code",
      "metadata": {
        "id": "wm9QUl95bmCY",
        "colab_type": "code",
        "colab": {}
      },
      "source": [
        "x = get_placeID('Chick-fil-a')\n",
        "Chickfilareviews = get_reviewslist(x)\n",
        "Chickfilaratings = get_ratingslist(x)\n",
        "Chickfilaaveragerating = get_ratings_avg(Chickfilaratings)"
      ],
      "execution_count": 0,
      "outputs": []
    },
    {
      "cell_type": "markdown",
      "metadata": {
        "id": "4RoALryAkE7F",
        "colab_type": "text"
      },
      "source": [
        "Now that I've gathered the data from Google's API, it's time to do some data wrangling"
      ]
    },
    {
      "cell_type": "code",
      "metadata": {
        "id": "bmRhNWymJLCO",
        "colab_type": "code",
        "colab": {}
      },
      "source": [
        "data = [['Chipotle', Chipotleaveragerating], ['Five Guys', FGaveragerating], ['McDonalds', McDonaldsaveragerating], \n",
        "['Izzos', Izzosaveragerating], ['Starbucks', sbuxaveragerating], ['Chick-fil-a', Chickfilaaveragerating],\n",
        "['Taco Bell', TacoBellaveragerating], ['Canes', Canesaveragerating], ['CCs', CCaveragerating], ['Subway', Subwayaveragerating]]"
      ],
      "execution_count": 0,
      "outputs": []
    },
    {
      "cell_type": "code",
      "metadata": {
        "id": "TnDpv13mJSkH",
        "colab_type": "code",
        "colab": {}
      },
      "source": [
        "df = pd.DataFrame(data, columns = ['place', 'avgrating'])"
      ],
      "execution_count": 0,
      "outputs": []
    },
    {
      "cell_type": "code",
      "metadata": {
        "id": "ET5sfCdJNwHq",
        "colab_type": "code",
        "colab": {}
      },
      "source": [
        "df['ratingsrank'] = df.avgrating.rank()"
      ],
      "execution_count": 0,
      "outputs": []
    },
    {
      "cell_type": "code",
      "metadata": {
        "id": "_LX6ywy_HHsk",
        "colab_type": "code",
        "outputId": "7f0bb4f8-1081-42ba-afe9-b7dc96165b0e",
        "colab": {
          "base_uri": "https://localhost:8080/",
          "height": 359
        }
      },
      "source": [
        "df = df.sort_values('avgrating')\n",
        "df"
      ],
      "execution_count": 25,
      "outputs": [
        {
          "output_type": "execute_result",
          "data": {
            "text/html": [
              "<div>\n",
              "<style scoped>\n",
              "    .dataframe tbody tr th:only-of-type {\n",
              "        vertical-align: middle;\n",
              "    }\n",
              "\n",
              "    .dataframe tbody tr th {\n",
              "        vertical-align: top;\n",
              "    }\n",
              "\n",
              "    .dataframe thead th {\n",
              "        text-align: right;\n",
              "    }\n",
              "</style>\n",
              "<table border=\"1\" class=\"dataframe\">\n",
              "  <thead>\n",
              "    <tr style=\"text-align: right;\">\n",
              "      <th></th>\n",
              "      <th>place</th>\n",
              "      <th>avgrating</th>\n",
              "      <th>ratingsrank</th>\n",
              "    </tr>\n",
              "  </thead>\n",
              "  <tbody>\n",
              "    <tr>\n",
              "      <th>2</th>\n",
              "      <td>McDonalds</td>\n",
              "      <td>3.125000</td>\n",
              "      <td>1.0</td>\n",
              "    </tr>\n",
              "    <tr>\n",
              "      <th>6</th>\n",
              "      <td>Taco Bell</td>\n",
              "      <td>3.445000</td>\n",
              "      <td>2.0</td>\n",
              "    </tr>\n",
              "    <tr>\n",
              "      <th>9</th>\n",
              "      <td>Subway</td>\n",
              "      <td>3.780000</td>\n",
              "      <td>3.0</td>\n",
              "    </tr>\n",
              "    <tr>\n",
              "      <th>4</th>\n",
              "      <td>Starbucks</td>\n",
              "      <td>4.015789</td>\n",
              "      <td>4.0</td>\n",
              "    </tr>\n",
              "    <tr>\n",
              "      <th>3</th>\n",
              "      <td>Izzos</td>\n",
              "      <td>4.071429</td>\n",
              "      <td>5.0</td>\n",
              "    </tr>\n",
              "    <tr>\n",
              "      <th>8</th>\n",
              "      <td>CCs</td>\n",
              "      <td>4.175000</td>\n",
              "      <td>6.0</td>\n",
              "    </tr>\n",
              "    <tr>\n",
              "      <th>0</th>\n",
              "      <td>Chipotle</td>\n",
              "      <td>4.250000</td>\n",
              "      <td>7.0</td>\n",
              "    </tr>\n",
              "    <tr>\n",
              "      <th>7</th>\n",
              "      <td>Canes</td>\n",
              "      <td>4.420000</td>\n",
              "      <td>8.0</td>\n",
              "    </tr>\n",
              "    <tr>\n",
              "      <th>5</th>\n",
              "      <td>Chick-fil-a</td>\n",
              "      <td>4.440000</td>\n",
              "      <td>9.0</td>\n",
              "    </tr>\n",
              "    <tr>\n",
              "      <th>1</th>\n",
              "      <td>Five Guys</td>\n",
              "      <td>4.533333</td>\n",
              "      <td>10.0</td>\n",
              "    </tr>\n",
              "  </tbody>\n",
              "</table>\n",
              "</div>"
            ],
            "text/plain": [
              "         place  avgrating  ratingsrank\n",
              "2    McDonalds   3.125000          1.0\n",
              "6    Taco Bell   3.445000          2.0\n",
              "9       Subway   3.780000          3.0\n",
              "4    Starbucks   4.015789          4.0\n",
              "3        Izzos   4.071429          5.0\n",
              "8          CCs   4.175000          6.0\n",
              "0     Chipotle   4.250000          7.0\n",
              "7        Canes   4.420000          8.0\n",
              "5  Chick-fil-a   4.440000          9.0\n",
              "1    Five Guys   4.533333         10.0"
            ]
          },
          "metadata": {
            "tags": []
          },
          "execution_count": 25
        }
      ]
    },
    {
      "cell_type": "code",
      "metadata": {
        "id": "TR2E-pxB3niq",
        "colab_type": "code",
        "outputId": "f007858c-5df7-4045-e0e6-e628154be36a",
        "colab": {
          "resources": {
            "http://localhost:8080/nbextensions/google.colab/files.js": {
              "data": "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",
              "ok": true,
              "headers": [
                [
                  "content-type",
                  "application/javascript"
                ]
              ],
              "status": 200,
              "status_text": ""
            }
          },
          "base_uri": "https://localhost:8080/",
          "height": 71
        }
      },
      "source": [
        "from google.colab import files\n",
        "uploaded = files.upload()"
      ],
      "execution_count": 26,
      "outputs": [
        {
          "output_type": "display_data",
          "data": {
            "text/html": [
              "\n",
              "     <input type=\"file\" id=\"files-7a1ee99b-36d9-43d7-929b-565002f73923\" name=\"files[]\" multiple disabled />\n",
              "     <output id=\"result-7a1ee99b-36d9-43d7-929b-565002f73923\">\n",
              "      Upload widget is only available when the cell has been executed in the\n",
              "      current browser session. Please rerun this cell to enable.\n",
              "      </output>\n",
              "      <script src=\"/nbextensions/google.colab/files.js\"></script> "
            ],
            "text/plain": [
              "<IPython.core.display.HTML object>"
            ]
          },
          "metadata": {
            "tags": []
          }
        },
        {
          "output_type": "stream",
          "text": [
            "Saving BRwagedata.xlsx to BRwagedata.xlsx\n"
          ],
          "name": "stdout"
        }
      ]
    },
    {
      "cell_type": "code",
      "metadata": {
        "id": "0WvNywQI4VYC",
        "colab_type": "code",
        "colab": {}
      },
      "source": [
        "import pandas as pd\n",
        "import seaborn as sns\n",
        "import matplotlib.pyplot as plt"
      ],
      "execution_count": 0,
      "outputs": []
    },
    {
      "cell_type": "code",
      "metadata": {
        "id": "9y80JUiw4eSv",
        "colab_type": "code",
        "colab": {}
      },
      "source": [
        "wagedf = pd.read_excel('BRwagedata.xlsx')"
      ],
      "execution_count": 0,
      "outputs": []
    },
    {
      "cell_type": "code",
      "metadata": {
        "id": "IRHCOG6AFmid",
        "colab_type": "code",
        "outputId": "26b21de7-0f3d-453c-f153-bb7497c325cc",
        "colab": {
          "base_uri": "https://localhost:8080/",
          "height": 359
        }
      },
      "source": [
        "wagedf"
      ],
      "execution_count": 29,
      "outputs": [
        {
          "output_type": "execute_result",
          "data": {
            "text/html": [
              "<div>\n",
              "<style scoped>\n",
              "    .dataframe tbody tr th:only-of-type {\n",
              "        vertical-align: middle;\n",
              "    }\n",
              "\n",
              "    .dataframe tbody tr th {\n",
              "        vertical-align: top;\n",
              "    }\n",
              "\n",
              "    .dataframe thead th {\n",
              "        text-align: right;\n",
              "    }\n",
              "</style>\n",
              "<table border=\"1\" class=\"dataframe\">\n",
              "  <thead>\n",
              "    <tr style=\"text-align: right;\">\n",
              "      <th></th>\n",
              "      <th>place</th>\n",
              "      <th>entry wage</th>\n",
              "      <th>avg manager salary</th>\n",
              "    </tr>\n",
              "  </thead>\n",
              "  <tbody>\n",
              "    <tr>\n",
              "      <th>0</th>\n",
              "      <td>Chick-fil-a</td>\n",
              "      <td>8.40</td>\n",
              "      <td>61152</td>\n",
              "    </tr>\n",
              "    <tr>\n",
              "      <th>1</th>\n",
              "      <td>Five Guys</td>\n",
              "      <td>9.00</td>\n",
              "      <td>47697</td>\n",
              "    </tr>\n",
              "    <tr>\n",
              "      <th>2</th>\n",
              "      <td>Chipotle</td>\n",
              "      <td>10.00</td>\n",
              "      <td>58500</td>\n",
              "    </tr>\n",
              "    <tr>\n",
              "      <th>3</th>\n",
              "      <td>Subway</td>\n",
              "      <td>8.00</td>\n",
              "      <td>30000</td>\n",
              "    </tr>\n",
              "    <tr>\n",
              "      <th>4</th>\n",
              "      <td>Izzos</td>\n",
              "      <td>8.00</td>\n",
              "      <td>45000</td>\n",
              "    </tr>\n",
              "    <tr>\n",
              "      <th>5</th>\n",
              "      <td>Taco Bell</td>\n",
              "      <td>8.00</td>\n",
              "      <td>43000</td>\n",
              "    </tr>\n",
              "    <tr>\n",
              "      <th>6</th>\n",
              "      <td>CCs</td>\n",
              "      <td>7.25</td>\n",
              "      <td>40378</td>\n",
              "    </tr>\n",
              "    <tr>\n",
              "      <th>7</th>\n",
              "      <td>McDonalds</td>\n",
              "      <td>8.00</td>\n",
              "      <td>41000</td>\n",
              "    </tr>\n",
              "    <tr>\n",
              "      <th>8</th>\n",
              "      <td>Canes</td>\n",
              "      <td>9.00</td>\n",
              "      <td>58650</td>\n",
              "    </tr>\n",
              "    <tr>\n",
              "      <th>9</th>\n",
              "      <td>Starbucks</td>\n",
              "      <td>9.00</td>\n",
              "      <td>52000</td>\n",
              "    </tr>\n",
              "  </tbody>\n",
              "</table>\n",
              "</div>"
            ],
            "text/plain": [
              "         place  entry wage  avg manager salary\n",
              "0  Chick-fil-a        8.40               61152\n",
              "1    Five Guys        9.00               47697\n",
              "2     Chipotle       10.00               58500\n",
              "3       Subway        8.00               30000\n",
              "4        Izzos        8.00               45000\n",
              "5    Taco Bell        8.00               43000\n",
              "6          CCs        7.25               40378\n",
              "7    McDonalds        8.00               41000\n",
              "8        Canes        9.00               58650\n",
              "9    Starbucks        9.00               52000"
            ]
          },
          "metadata": {
            "tags": []
          },
          "execution_count": 29
        }
      ]
    },
    {
      "cell_type": "code",
      "metadata": {
        "id": "Z3GKyDG44qle",
        "colab_type": "code",
        "colab": {}
      },
      "source": [
        "wagedf = wagedf.sort_values('entry wage')"
      ],
      "execution_count": 0,
      "outputs": []
    },
    {
      "cell_type": "code",
      "metadata": {
        "id": "wB_s4Cp4k7vv",
        "colab_type": "code",
        "colab": {}
      },
      "source": [
        "fulldf = pd.merge(df, wagedf[['place', 'entry wage', 'avg manager salary']], on='place')\n",
        "fulldf = fulldf.drop('ratingsrank', axis=1)"
      ],
      "execution_count": 0,
      "outputs": []
    },
    {
      "cell_type": "code",
      "metadata": {
        "id": "qaYYkmCApp7U",
        "colab_type": "code",
        "outputId": "4981873f-544c-4035-a81e-70cf75df84dd",
        "colab": {
          "base_uri": "https://localhost:8080/",
          "height": 359
        }
      },
      "source": [
        "combineddf = fulldf\n",
        "combineddf['entry_wage_rank'] = fulldf['entry wage'].rank()\n",
        "combineddf['manager_salary_rank'] = fulldf['avg manager salary'].rank()\n",
        "combineddf['ratings_rank'] = fulldf['avgrating'].rank()\n",
        "combineddf"
      ],
      "execution_count": 32,
      "outputs": [
        {
          "output_type": "execute_result",
          "data": {
            "text/html": [
              "<div>\n",
              "<style scoped>\n",
              "    .dataframe tbody tr th:only-of-type {\n",
              "        vertical-align: middle;\n",
              "    }\n",
              "\n",
              "    .dataframe tbody tr th {\n",
              "        vertical-align: top;\n",
              "    }\n",
              "\n",
              "    .dataframe thead th {\n",
              "        text-align: right;\n",
              "    }\n",
              "</style>\n",
              "<table border=\"1\" class=\"dataframe\">\n",
              "  <thead>\n",
              "    <tr style=\"text-align: right;\">\n",
              "      <th></th>\n",
              "      <th>place</th>\n",
              "      <th>avgrating</th>\n",
              "      <th>entry wage</th>\n",
              "      <th>avg manager salary</th>\n",
              "      <th>entry_wage_rank</th>\n",
              "      <th>manager_salary_rank</th>\n",
              "      <th>ratings_rank</th>\n",
              "    </tr>\n",
              "  </thead>\n",
              "  <tbody>\n",
              "    <tr>\n",
              "      <th>0</th>\n",
              "      <td>McDonalds</td>\n",
              "      <td>3.125000</td>\n",
              "      <td>8.00</td>\n",
              "      <td>41000</td>\n",
              "      <td>3.5</td>\n",
              "      <td>3.0</td>\n",
              "      <td>1.0</td>\n",
              "    </tr>\n",
              "    <tr>\n",
              "      <th>1</th>\n",
              "      <td>Taco Bell</td>\n",
              "      <td>3.445000</td>\n",
              "      <td>8.00</td>\n",
              "      <td>43000</td>\n",
              "      <td>3.5</td>\n",
              "      <td>4.0</td>\n",
              "      <td>2.0</td>\n",
              "    </tr>\n",
              "    <tr>\n",
              "      <th>2</th>\n",
              "      <td>Subway</td>\n",
              "      <td>3.780000</td>\n",
              "      <td>8.00</td>\n",
              "      <td>30000</td>\n",
              "      <td>3.5</td>\n",
              "      <td>1.0</td>\n",
              "      <td>3.0</td>\n",
              "    </tr>\n",
              "    <tr>\n",
              "      <th>3</th>\n",
              "      <td>Starbucks</td>\n",
              "      <td>4.015789</td>\n",
              "      <td>9.00</td>\n",
              "      <td>52000</td>\n",
              "      <td>8.0</td>\n",
              "      <td>7.0</td>\n",
              "      <td>4.0</td>\n",
              "    </tr>\n",
              "    <tr>\n",
              "      <th>4</th>\n",
              "      <td>Izzos</td>\n",
              "      <td>4.071429</td>\n",
              "      <td>8.00</td>\n",
              "      <td>45000</td>\n",
              "      <td>3.5</td>\n",
              "      <td>5.0</td>\n",
              "      <td>5.0</td>\n",
              "    </tr>\n",
              "    <tr>\n",
              "      <th>5</th>\n",
              "      <td>CCs</td>\n",
              "      <td>4.175000</td>\n",
              "      <td>7.25</td>\n",
              "      <td>40378</td>\n",
              "      <td>1.0</td>\n",
              "      <td>2.0</td>\n",
              "      <td>6.0</td>\n",
              "    </tr>\n",
              "    <tr>\n",
              "      <th>6</th>\n",
              "      <td>Chipotle</td>\n",
              "      <td>4.250000</td>\n",
              "      <td>10.00</td>\n",
              "      <td>58500</td>\n",
              "      <td>10.0</td>\n",
              "      <td>8.0</td>\n",
              "      <td>7.0</td>\n",
              "    </tr>\n",
              "    <tr>\n",
              "      <th>7</th>\n",
              "      <td>Canes</td>\n",
              "      <td>4.420000</td>\n",
              "      <td>9.00</td>\n",
              "      <td>58650</td>\n",
              "      <td>8.0</td>\n",
              "      <td>9.0</td>\n",
              "      <td>8.0</td>\n",
              "    </tr>\n",
              "    <tr>\n",
              "      <th>8</th>\n",
              "      <td>Chick-fil-a</td>\n",
              "      <td>4.440000</td>\n",
              "      <td>8.40</td>\n",
              "      <td>61152</td>\n",
              "      <td>6.0</td>\n",
              "      <td>10.0</td>\n",
              "      <td>9.0</td>\n",
              "    </tr>\n",
              "    <tr>\n",
              "      <th>9</th>\n",
              "      <td>Five Guys</td>\n",
              "      <td>4.533333</td>\n",
              "      <td>9.00</td>\n",
              "      <td>47697</td>\n",
              "      <td>8.0</td>\n",
              "      <td>6.0</td>\n",
              "      <td>10.0</td>\n",
              "    </tr>\n",
              "  </tbody>\n",
              "</table>\n",
              "</div>"
            ],
            "text/plain": [
              "         place  avgrating  ...  manager_salary_rank  ratings_rank\n",
              "0    McDonalds   3.125000  ...                  3.0           1.0\n",
              "1    Taco Bell   3.445000  ...                  4.0           2.0\n",
              "2       Subway   3.780000  ...                  1.0           3.0\n",
              "3    Starbucks   4.015789  ...                  7.0           4.0\n",
              "4        Izzos   4.071429  ...                  5.0           5.0\n",
              "5          CCs   4.175000  ...                  2.0           6.0\n",
              "6     Chipotle   4.250000  ...                  8.0           7.0\n",
              "7        Canes   4.420000  ...                  9.0           8.0\n",
              "8  Chick-fil-a   4.440000  ...                 10.0           9.0\n",
              "9    Five Guys   4.533333  ...                  6.0          10.0\n",
              "\n",
              "[10 rows x 7 columns]"
            ]
          },
          "metadata": {
            "tags": []
          },
          "execution_count": 32
        }
      ]
    },
    {
      "cell_type": "code",
      "metadata": {
        "id": "NvvYWtZt5kIs",
        "colab_type": "code",
        "outputId": "aac003ba-9ff9-466f-d689-0da2adc7d820",
        "colab": {
          "base_uri": "https://localhost:8080/",
          "height": 297
        }
      },
      "source": [
        "combineddf = combineddf.sort_values('entry_wage_rank')\n",
        "ax = sns.barplot(combineddf.place, combineddf['entry wage'], data=combineddf, palette='cubehelix')\n",
        "ax.set_xticklabels(ax.get_xticklabels(), rotation=40, ha=\"right\")\n",
        "ax.set_title('Average entry level wages in the Baton Rouge area per Glassdoor')\n",
        "plt.tight_layout()\n",
        "plt.show()\n",
        "\n",
        "  "
      ],
      "execution_count": 54,
      "outputs": [
        {
          "output_type": "display_data",
          "data": {
            "image/png": "[encoded data removed]",
            "text/plain": [
              "<Figure size 432x288 with 1 Axes>"
            ]
          },
          "metadata": {
            "tags": []
          }
        }
      ]
    },
    {
      "cell_type": "markdown",
      "metadata": {
        "id": "Fz31lQdtkoTC",
        "colab_type": "text"
      },
      "source": [
        "Chipotle comes in at the top of our entry level wage table starting at 10 dollars an hour. CC's Coffeehouse is the lowest at 7.25. Our average entry leve wage is 8.47 an hour.\n"
      ]
    },
    {
      "cell_type": "code",
      "metadata": {
        "id": "yexG7rSA6Flr",
        "colab_type": "code",
        "outputId": "6708b6f2-200d-47d6-f3eb-b490b2141098",
        "colab": {
          "base_uri": "https://localhost:8080/",
          "height": 297
        }
      },
      "source": [
        "combineddf = combineddf.sort_values('manager_salary_rank')\n",
        "ax = sns.barplot(combineddf.place, combineddf['avg manager salary'], data=combineddf, palette='viridis')\n",
        "ax.set_xticklabels(ax.get_xticklabels(), rotation=40, ha=\"right\")\n",
        "ax.set_title('Average General Manager salary in the Baton Rouge area per Glassdoor')\n",
        "plt.tight_layout()\n",
        "plt.show()"
      ],
      "execution_count": 56,
      "outputs": [
        {
          "output_type": "display_data",
          "data": {
            "image/png": "[encoded data removed]",
            "text/plain": [
              "<Figure size 432x288 with 1 Axes>"
            ]
          },
          "metadata": {
            "tags": []
          }
        }
      ]
    },
    {
      "cell_type": "markdown",
      "metadata": {
        "id": "iInvMLrpk8H1",
        "colab_type": "text"
      },
      "source": [
        "The average salary for a general manager in the Baton Rouge market is $47,737 a year, with Chick-fil-a paying the highest."
      ]
    },
    {
      "cell_type": "code",
      "metadata": {
        "id": "Ziwr2VVzx5ku",
        "colab_type": "code",
        "outputId": "9a0f7fad-1ba9-4d26-8bc6-b391c4b53fe0",
        "colab": {
          "base_uri": "https://localhost:8080/",
          "height": 297
        }
      },
      "source": [
        "ax = sns.barplot(df.place, df.avgrating, data=df, palette='cividis')\n",
        "ax.set_xticklabels(ax.get_xticklabels(), rotation=40, ha=\"right\")\n",
        "ax.set_title('Average rating for all locations in the Baton Rouge Area, from Google Places')\n",
        "plt.tight_layout()\n",
        "plt.show()"
      ],
      "execution_count": 35,
      "outputs": [
        {
          "output_type": "display_data",
          "data": {
            "image/png": "[encoded data removed]",
            "text/plain": [
              "<Figure size 432x288 with 1 Axes>"
            ]
          },
          "metadata": {
            "tags": []
          }
        }
      ]
    },
    {
      "cell_type": "markdown",
      "metadata": {
        "id": "Ev6MfZy-mGaD",
        "colab_type": "text"
      },
      "source": [
        "Of our 10 restaurants, Five Guys has the highest Google Places ranking (they only have 3 Baton Rouge Locations), followed by Chick-fil-a (10 locations(Including campus and food court locations)) and Raising Canes  (20 locations)"
      ]
    },
    {
      "cell_type": "markdown",
      "metadata": {
        "id": "0p9GKpbQcvOE",
        "colab_type": "text"
      },
      "source": [
        "I want to take a look at the mexican burrito/fast food restaurants in our dataset to get a comparison of similar food types"
      ]
    },
    {
      "cell_type": "code",
      "metadata": {
        "id": "O8eQ5rbf-e5R",
        "colab_type": "code",
        "colab": {}
      },
      "source": [
        "tacocomparison = df[(df['place'].isin(['Izzos', 'Chipotle', 'Taco Bell']))]\n"
      ],
      "execution_count": 0,
      "outputs": []
    },
    {
      "cell_type": "code",
      "metadata": {
        "id": "pBp2S2V-_ovG",
        "colab_type": "code",
        "colab": {}
      },
      "source": [
        "tacodf = pd.merge(tacocomparison, fulldf[['place', 'entry wage', 'entry_wage_rank', 'avg manager salary', 'manager_salary_rank']], on='place')"
      ],
      "execution_count": 0,
      "outputs": []
    },
    {
      "cell_type": "code",
      "metadata": {
        "id": "ulE-Ef2Fv71I",
        "colab_type": "code",
        "outputId": "9c54ccd3-13bb-476a-fd1d-8b26bbf2a378",
        "colab": {
          "base_uri": "https://localhost:8080/",
          "height": 142
        }
      },
      "source": [
        "tacodf"
      ],
      "execution_count": 38,
      "outputs": [
        {
          "output_type": "execute_result",
          "data": {
            "text/html": [
              "<div>\n",
              "<style scoped>\n",
              "    .dataframe tbody tr th:only-of-type {\n",
              "        vertical-align: middle;\n",
              "    }\n",
              "\n",
              "    .dataframe tbody tr th {\n",
              "        vertical-align: top;\n",
              "    }\n",
              "\n",
              "    .dataframe thead th {\n",
              "        text-align: right;\n",
              "    }\n",
              "</style>\n",
              "<table border=\"1\" class=\"dataframe\">\n",
              "  <thead>\n",
              "    <tr style=\"text-align: right;\">\n",
              "      <th></th>\n",
              "      <th>place</th>\n",
              "      <th>avgrating</th>\n",
              "      <th>ratingsrank</th>\n",
              "      <th>entry wage</th>\n",
              "      <th>entry_wage_rank</th>\n",
              "      <th>avg manager salary</th>\n",
              "      <th>manager_salary_rank</th>\n",
              "    </tr>\n",
              "  </thead>\n",
              "  <tbody>\n",
              "    <tr>\n",
              "      <th>0</th>\n",
              "      <td>Taco Bell</td>\n",
              "      <td>3.445000</td>\n",
              "      <td>2.0</td>\n",
              "      <td>8.0</td>\n",
              "      <td>3.5</td>\n",
              "      <td>43000</td>\n",
              "      <td>4.0</td>\n",
              "    </tr>\n",
              "    <tr>\n",
              "      <th>1</th>\n",
              "      <td>Izzos</td>\n",
              "      <td>4.071429</td>\n",
              "      <td>5.0</td>\n",
              "      <td>8.0</td>\n",
              "      <td>3.5</td>\n",
              "      <td>45000</td>\n",
              "      <td>5.0</td>\n",
              "    </tr>\n",
              "    <tr>\n",
              "      <th>2</th>\n",
              "      <td>Chipotle</td>\n",
              "      <td>4.250000</td>\n",
              "      <td>7.0</td>\n",
              "      <td>10.0</td>\n",
              "      <td>10.0</td>\n",
              "      <td>58500</td>\n",
              "      <td>8.0</td>\n",
              "    </tr>\n",
              "  </tbody>\n",
              "</table>\n",
              "</div>"
            ],
            "text/plain": [
              "       place  avgrating  ...  avg manager salary  manager_salary_rank\n",
              "0  Taco Bell   3.445000  ...               43000                  4.0\n",
              "1      Izzos   4.071429  ...               45000                  5.0\n",
              "2   Chipotle   4.250000  ...               58500                  8.0\n",
              "\n",
              "[3 rows x 7 columns]"
            ]
          },
          "metadata": {
            "tags": []
          },
          "execution_count": 38
        }
      ]
    },
    {
      "cell_type": "code",
      "metadata": {
        "id": "cZ5fcIhTaT3K",
        "colab_type": "code",
        "outputId": "92e81220-31c4-4c99-feb5-bda2b2c03feb",
        "colab": {
          "base_uri": "https://localhost:8080/",
          "height": 335
        }
      },
      "source": [
        "tacodf.plot(x='place', y=['manager_salary_rank', 'entry_wage_rank', 'avgrating'], kind='bar')"
      ],
      "execution_count": 39,
      "outputs": [
        {
          "output_type": "execute_result",
          "data": {
            "text/plain": [
              "<matplotlib.axes._subplots.AxesSubplot at 0x7f501bcf5518>"
            ]
          },
          "metadata": {
            "tags": []
          },
          "execution_count": 39
        },
        {
          "output_type": "display_data",
          "data": {
            "image/png": "[encoded data removed]",
            "text/plain": [
              "<Figure size 432x288 with 1 Axes>"
            ]
          },
          "metadata": {
            "tags": []
          }
        }
      ]
    },
    {
      "cell_type": "markdown",
      "metadata": {
        "id": "tibLaHCfji8L",
        "colab_type": "text"
      },
      "source": [
        "In the above chart we can see that Chipotle has the highest average google review rating, highest average manager salary rank, as well as one of the highest entry level worker wages in the taco/fast mexican food category."
      ]
    },
    {
      "cell_type": "code",
      "metadata": {
        "id": "iElUITrtkk-0",
        "colab_type": "code",
        "outputId": "9d3d9d4a-a6af-46c0-f8ef-41eb2dc367d0",
        "colab": {
          "base_uri": "https://localhost:8080/",
          "height": 142
        }
      },
      "source": [
        "correlations = fulldf[['avgrating', 'entry wage', 'avg manager salary']]\n",
        "correlations = correlations.corr(method='pearson')\n",
        "correlations"
      ],
      "execution_count": 42,
      "outputs": [
        {
          "output_type": "execute_result",
          "data": {
            "text/html": [
              "<div>\n",
              "<style scoped>\n",
              "    .dataframe tbody tr th:only-of-type {\n",
              "        vertical-align: middle;\n",
              "    }\n",
              "\n",
              "    .dataframe tbody tr th {\n",
              "        vertical-align: top;\n",
              "    }\n",
              "\n",
              "    .dataframe thead th {\n",
              "        text-align: right;\n",
              "    }\n",
              "</style>\n",
              "<table border=\"1\" class=\"dataframe\">\n",
              "  <thead>\n",
              "    <tr style=\"text-align: right;\">\n",
              "      <th></th>\n",
              "      <th>avgrating</th>\n",
              "      <th>entry wage</th>\n",
              "      <th>avg manager salary</th>\n",
              "    </tr>\n",
              "  </thead>\n",
              "  <tbody>\n",
              "    <tr>\n",
              "      <th>avgrating</th>\n",
              "      <td>1.000000</td>\n",
              "      <td>0.432813</td>\n",
              "      <td>0.596921</td>\n",
              "    </tr>\n",
              "    <tr>\n",
              "      <th>entry wage</th>\n",
              "      <td>0.432813</td>\n",
              "      <td>1.000000</td>\n",
              "      <td>0.680789</td>\n",
              "    </tr>\n",
              "    <tr>\n",
              "      <th>avg manager salary</th>\n",
              "      <td>0.596921</td>\n",
              "      <td>0.680789</td>\n",
              "      <td>1.000000</td>\n",
              "    </tr>\n",
              "  </tbody>\n",
              "</table>\n",
              "</div>"
            ],
            "text/plain": [
              "                    avgrating  entry wage  avg manager salary\n",
              "avgrating            1.000000    0.432813            0.596921\n",
              "entry wage           0.432813    1.000000            0.680789\n",
              "avg manager salary   0.596921    0.680789            1.000000"
            ]
          },
          "metadata": {
            "tags": []
          },
          "execution_count": 42
        }
      ]
    },
    {
      "cell_type": "code",
      "metadata": {
        "id": "9ntPyYs2mxmS",
        "colab_type": "code",
        "colab": {}
      },
      "source": [
        ""
      ],
      "execution_count": 0,
      "outputs": []
    },
    {
      "cell_type": "markdown",
      "metadata": {
        "id": "EkRrWNY2oAJ9",
        "colab_type": "text"
      },
      "source": [
        "So it looks like the average manager salary is the most important factor in getting a high average rating, but entry wage isn't far behind. Let's check and see if there's a relationship between high manager pay and high entry level pay."
      ]
    },
    {
      "cell_type": "code",
      "metadata": {
        "id": "X9kOjgQ-ocis",
        "colab_type": "code",
        "outputId": "c9ee362a-8794-463f-c8fd-3a10ab64b061",
        "colab": {
          "base_uri": "https://localhost:8080/",
          "height": 359
        }
      },
      "source": [
        "paycorr = fulldf[['avg manager salary', 'entry wage']]\n",
        "paycorr"
      ],
      "execution_count": 44,
      "outputs": [
        {
          "output_type": "execute_result",
          "data": {
            "text/html": [
              "<div>\n",
              "<style scoped>\n",
              "    .dataframe tbody tr th:only-of-type {\n",
              "        vertical-align: middle;\n",
              "    }\n",
              "\n",
              "    .dataframe tbody tr th {\n",
              "        vertical-align: top;\n",
              "    }\n",
              "\n",
              "    .dataframe thead th {\n",
              "        text-align: right;\n",
              "    }\n",
              "</style>\n",
              "<table border=\"1\" class=\"dataframe\">\n",
              "  <thead>\n",
              "    <tr style=\"text-align: right;\">\n",
              "      <th></th>\n",
              "      <th>avg manager salary</th>\n",
              "      <th>entry wage</th>\n",
              "    </tr>\n",
              "  </thead>\n",
              "  <tbody>\n",
              "    <tr>\n",
              "      <th>0</th>\n",
              "      <td>41000</td>\n",
              "      <td>8.00</td>\n",
              "    </tr>\n",
              "    <tr>\n",
              "      <th>1</th>\n",
              "      <td>43000</td>\n",
              "      <td>8.00</td>\n",
              "    </tr>\n",
              "    <tr>\n",
              "      <th>2</th>\n",
              "      <td>30000</td>\n",
              "      <td>8.00</td>\n",
              "    </tr>\n",
              "    <tr>\n",
              "      <th>3</th>\n",
              "      <td>52000</td>\n",
              "      <td>9.00</td>\n",
              "    </tr>\n",
              "    <tr>\n",
              "      <th>4</th>\n",
              "      <td>45000</td>\n",
              "      <td>8.00</td>\n",
              "    </tr>\n",
              "    <tr>\n",
              "      <th>5</th>\n",
              "      <td>40378</td>\n",
              "      <td>7.25</td>\n",
              "    </tr>\n",
              "    <tr>\n",
              "      <th>6</th>\n",
              "      <td>58500</td>\n",
              "      <td>10.00</td>\n",
              "    </tr>\n",
              "    <tr>\n",
              "      <th>7</th>\n",
              "      <td>58650</td>\n",
              "      <td>9.00</td>\n",
              "    </tr>\n",
              "    <tr>\n",
              "      <th>8</th>\n",
              "      <td>61152</td>\n",
              "      <td>8.40</td>\n",
              "    </tr>\n",
              "    <tr>\n",
              "      <th>9</th>\n",
              "      <td>47697</td>\n",
              "      <td>9.00</td>\n",
              "    </tr>\n",
              "  </tbody>\n",
              "</table>\n",
              "</div>"
            ],
            "text/plain": [
              "   avg manager salary  entry wage\n",
              "0               41000        8.00\n",
              "1               43000        8.00\n",
              "2               30000        8.00\n",
              "3               52000        9.00\n",
              "4               45000        8.00\n",
              "5               40378        7.25\n",
              "6               58500       10.00\n",
              "7               58650        9.00\n",
              "8               61152        8.40\n",
              "9               47697        9.00"
            ]
          },
          "metadata": {
            "tags": []
          },
          "execution_count": 44
        }
      ]
    },
    {
      "cell_type": "code",
      "metadata": {
        "id": "GHIglPd2onBp",
        "colab_type": "code",
        "outputId": "b4d62ceb-4652-4ec5-9974-f29075970264",
        "colab": {
          "base_uri": "https://localhost:8080/",
          "height": 111
        }
      },
      "source": [
        "correlations2 = paycorr.corr(method='pearson')\n",
        "correlations2"
      ],
      "execution_count": 45,
      "outputs": [
        {
          "output_type": "execute_result",
          "data": {
            "text/html": [
              "<div>\n",
              "<style scoped>\n",
              "    .dataframe tbody tr th:only-of-type {\n",
              "        vertical-align: middle;\n",
              "    }\n",
              "\n",
              "    .dataframe tbody tr th {\n",
              "        vertical-align: top;\n",
              "    }\n",
              "\n",
              "    .dataframe thead th {\n",
              "        text-align: right;\n",
              "    }\n",
              "</style>\n",
              "<table border=\"1\" class=\"dataframe\">\n",
              "  <thead>\n",
              "    <tr style=\"text-align: right;\">\n",
              "      <th></th>\n",
              "      <th>avg manager salary</th>\n",
              "      <th>entry wage</th>\n",
              "    </tr>\n",
              "  </thead>\n",
              "  <tbody>\n",
              "    <tr>\n",
              "      <th>avg manager salary</th>\n",
              "      <td>1.000000</td>\n",
              "      <td>0.680789</td>\n",
              "    </tr>\n",
              "    <tr>\n",
              "      <th>entry wage</th>\n",
              "      <td>0.680789</td>\n",
              "      <td>1.000000</td>\n",
              "    </tr>\n",
              "  </tbody>\n",
              "</table>\n",
              "</div>"
            ],
            "text/plain": [
              "                    avg manager salary  entry wage\n",
              "avg manager salary            1.000000    0.680789\n",
              "entry wage                    0.680789    1.000000"
            ]
          },
          "metadata": {
            "tags": []
          },
          "execution_count": 45
        }
      ]
    },
    {
      "cell_type": "markdown",
      "metadata": {
        "id": "0vldIogloEKY",
        "colab_type": "text"
      },
      "source": [
        "To me it looks like manager salary is definitely related to entry level wages, which makes sense."
      ]
    },
    {
      "cell_type": "code",
      "metadata": {
        "id": "_nwYulZIpI9y",
        "colab_type": "code",
        "outputId": "b02132f7-91cf-488c-b030-9225c1a2715a",
        "colab": {
          "base_uri": "https://localhost:8080/",
          "height": 345
        }
      },
      "source": [
        "fulldf = fulldf.sort_values('manager_salary_rank')\n",
        "fulldf.plot(x='place', y=['manager_salary_rank', 'entry_wage_rank'], kind='bar')"
      ],
      "execution_count": 46,
      "outputs": [
        {
          "output_type": "execute_result",
          "data": {
            "text/plain": [
              "<matplotlib.axes._subplots.AxesSubplot at 0x7f501b95d748>"
            ]
          },
          "metadata": {
            "tags": []
          },
          "execution_count": 46
        },
        {
          "output_type": "display_data",
          "data": {
            "image/png": "[encoded data removed]",
            "text/plain": [
              "<Figure size 432x288 with 1 Axes>"
            ]
          },
          "metadata": {
            "tags": []
          }
        }
      ]
    },
    {
      "cell_type": "markdown",
      "metadata": {
        "id": "8nXud594oVP3",
        "colab_type": "text"
      },
      "source": [
        "Now let's visualize the relationship between average rankings are related to manager salary rank"
      ]
    },
    {
      "cell_type": "code",
      "metadata": {
        "id": "HOrD07I5qttp",
        "colab_type": "code",
        "outputId": "1e90ab7a-5f3f-4ca1-dccf-7c5665b518c8",
        "colab": {
          "base_uri": "https://localhost:8080/",
          "height": 345
        }
      },
      "source": [
        "fulldf = fulldf.sort_values('ratings_rank')\n",
        "fulldf.plot(x='place', y=['manager_salary_rank', 'ratings_rank'], kind='bar')"
      ],
      "execution_count": 51,
      "outputs": [
        {
          "output_type": "execute_result",
          "data": {
            "text/plain": [
              "<matplotlib.axes._subplots.AxesSubplot at 0x7f501b601400>"
            ]
          },
          "metadata": {
            "tags": []
          },
          "execution_count": 51
        },
        {
          "output_type": "display_data",
          "data": {
            "image/png": "[encoded data removed]",
            "text/plain": [
              "<Figure size 432x288 with 1 Axes>"
            ]
          },
          "metadata": {
            "tags": []
          }
        }
      ]
    },
    {
      "cell_type": "code",
      "metadata": {
        "id": "5WSsWcgfrpQD",
        "colab_type": "code",
        "outputId": "08071ad3-c170-42b6-87af-6f027daba8fc",
        "colab": {
          "base_uri": "https://localhost:8080/",
          "height": 345
        }
      },
      "source": [
        "fulldf = fulldf.sort_values('ratings_rank')\n",
        "fulldf.plot(x='place', y=['entry_wage_rank', 'ratings_rank'], kind='bar')"
      ],
      "execution_count": 50,
      "outputs": [
        {
          "output_type": "execute_result",
          "data": {
            "text/plain": [
              "<matplotlib.axes._subplots.AxesSubplot at 0x7f501b67c358>"
            ]
          },
          "metadata": {
            "tags": []
          },
          "execution_count": 50
        },
        {
          "output_type": "display_data",
          "data": {
            "image/png": "[encoded data removed]",
            "text/plain": [
              "<Figure size 432x288 with 1 Axes>"
            ]
          },
          "metadata": {
            "tags": []
          }
        }
      ]
    },
    {
      "cell_type": "markdown",
      "metadata": {
        "id": "w6JJflLbYtLW",
        "colab_type": "text"
      },
      "source": [
        "It looks like as manager salary increases, average ratings tend to increase. The relationship between entry wages and average ratings is weaker, which is suprising to me, but the relationship between manager salary and entry wages makes sense.\n",
        "\n",
        "Up next I want to analyze the text of the google reviews left, but I have to figure out how to untangle them, they come out of the API in a list that holds a very nested dictionary, it's another puzzle for another weekend."
      ]
    },
    {
      "cell_type": "code",
      "metadata": {
        "id": "XADiVNyya5FF",
        "colab_type": "code",
        "colab": {}
      },
      "source": [
        ""
      ],
      "execution_count": 0,
      "outputs": []
    }
  ]
}