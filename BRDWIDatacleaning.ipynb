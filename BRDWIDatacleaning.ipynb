{
  "nbformat": 4,
  "nbformat_minor": 0,
  "metadata": {
    "colab": {
      "name": "Untitled1.ipynb",
      "version": "0.3.2",
      "provenance": [],
      "collapsed_sections": [],
      "include_colab_link": true
    },
    "kernelspec": {
      "name": "python3",
      "display_name": "Python 3"
    }
  },
  "cells": [
    {
      "cell_type": "markdown",
      "metadata": {
        "id": "view-in-github",
        "colab_type": "text"
      },
      "source": [
        "<a href=\"https://colab.research.google.com/github/SarahSchnei/practice/blob/master/BRDWIDatacleaning.ipynb\" target=\"_parent\"><img src=\"https://colab.research.google.com/assets/colab-badge.svg\" alt=\"Open In Colab\"/></a>"
      ]
    },
    {
      "metadata": {
        "id": "ZJ-y7RI1swsW",
        "colab_type": "code",
        "colab": {}
      },
      "cell_type": "code",
      "source": [
        "\n",
        "import pandas as pd\n",
        "import requests\n",
        "import json"
      ],
      "execution_count": 0,
      "outputs": []
    },
    {
      "metadata": {
        "id": "NsCoR674Dsrz",
        "colab_type": "code",
        "colab": {}
      },
      "cell_type": "code",
      "source": [
        "url =\"https://data.brla.gov/resource/5rji-ddnu.json?offense=11:140\" \n",
        "url2 =\"https://data.brla.gov/resource/5rji-ddnu.json?offense=11:140&$offset=1000\"\n",
        "url3 =\"https://data.brla.gov/resource/5rji-ddnu.json?offense=11:140&$offset=2000\"\n",
        "url4 =\"https://data.brla.gov/resource/5rji-ddnu.json?offense=11:140&$offset=3000\"\n",
        "url5 =\"https://data.brla.gov/resource/5rji-ddnu.json?offense=11:140&$offset=4000\"\n",
        "url6 =\"https://data.brla.gov/resource/5rji-ddnu.json?offense=11:140&$offset=5000\"\n",
        "url7 =\"https://data.brla.gov/resource/5rji-ddnu.json?offense=11:140&$offset=6000\"\n",
        "url8 =\"https://data.brla.gov/resource/5rji-ddnu.json?offense=11:140&$offset=7000\"\n",
        "url9 =\"https://data.brla.gov/resource/5rji-ddnu.json?offense=11:140&$offset=8000\"\n",
        "\n",
        "#### thia will onlt pull down 1000 records at a time so I'm trying to pull down the next 1000 every time"
      ],
      "execution_count": 0,
      "outputs": []
    },
    {
      "metadata": {
        "id": "brEoy8iktDME",
        "colab_type": "code",
        "colab": {}
      },
      "cell_type": "code",
      "source": [
        "JSONContent = requests.get(url).json()\n",
        "JSONContent2 = requests.get(url2).json()\n",
        "JSONContent3 = requests.get(url3).json()\n",
        "JSONContent4 = requests.get(url4).json()\n",
        "JSONContent5 = requests.get(url5).json()\n",
        "JSONContent6 = requests.get(url6).json()\n",
        "JSONContent7 = requests.get(url7).json()\n",
        "JSONContent8 = requests.get(url8).json()\n",
        "JSONContent9 = requests.get(url9).json()"
      ],
      "execution_count": 0,
      "outputs": []
    },
    {
      "metadata": {
        "id": "lS6Xz44kszAW",
        "colab_type": "code",
        "colab": {}
      },
      "cell_type": "code",
      "source": [
        "results = pd.DataFrame(JSONContent)\n",
        "results2 = pd.DataFrame(JSONContent2)\n",
        "results3 = pd.DataFrame(JSONContent3)\n",
        "results4 = pd.DataFrame(JSONContent4)\n",
        "results5 = pd.DataFrame(JSONContent5)\n",
        "results6 = pd.DataFrame(JSONContent6)\n",
        "results7 = pd.DataFrame(JSONContent7)\n",
        "results8 = pd.DataFrame(JSONContent8)\n",
        "results9 = pd.DataFrame(JSONContent9)"
      ],
      "execution_count": 0,
      "outputs": []
    },
    {
      "metadata": {
        "id": "s4X7IsEC7ogT",
        "colab_type": "text"
      },
      "cell_type": "markdown",
      "source": [
        ""
      ]
    },
    {
      "metadata": {
        "id": "mGFE3DCn2lFf",
        "colab_type": "code",
        "colab": {
          "base_uri": "https://localhost:8080/",
          "height": 34
        },
        "outputId": "ca620bd1-7b47-48d8-90d1-be50085f272b"
      },
      "cell_type": "code",
      "source": [
        "results9.shape\n"
      ],
      "execution_count": 65,
      "outputs": [
        {
          "output_type": "execute_result",
          "data": {
            "text/plain": [
              "(193, 26)"
            ]
          },
          "metadata": {
            "tags": []
          },
          "execution_count": 65
        }
      ]
    },
    {
      "metadata": {
        "id": "o-YjlZ6IEfJc",
        "colab_type": "code",
        "colab": {}
      },
      "cell_type": "code",
      "source": [
        "frames = [results, results2, results3, results4, results5, results6, results7, results8, results9]\n",
        "#### putting all results into one df"
      ],
      "execution_count": 0,
      "outputs": []
    },
    {
      "metadata": {
        "id": "L0BEexagDGE5",
        "colab_type": "code",
        "colab": {}
      },
      "cell_type": "code",
      "source": [
        "df = pd.concat(frames, ignore_index = True)"
      ],
      "execution_count": 0,
      "outputs": []
    },
    {
      "metadata": {
        "id": "ilFvEXO731km",
        "colab_type": "code",
        "colab": {}
      },
      "cell_type": "code",
      "source": [
        "df.columns = ['a', 'address', 'city', 'b', 'c', 'crime', 'd', 'e', 'ID', 'geo', \n",
        "              'address', 'city', 'state', 'zip', '1', '5', 'date', 'desc', 'time', 'direct', 'streetname', 'num', 'type', \n",
        "              '2', '3', '4' ]"
      ],
      "execution_count": 0,
      "outputs": []
    },
    {
      "metadata": {
        "id": "OZj6BZ8p6LWR",
        "colab_type": "code",
        "colab": {}
      },
      "cell_type": "code",
      "source": [
        "data = df.drop(columns = ['a', 'b', 'c', 'd', 'e', '1', '2', '3', '4', '5'], axis=0)"
      ],
      "execution_count": 0,
      "outputs": []
    },
    {
      "metadata": {
        "id": "OLJOx2y87zdx",
        "colab_type": "code",
        "colab": {}
      },
      "cell_type": "code",
      "source": [
        "listoftime = []\n",
        "\n",
        "for i in data['time']:\n",
        "  line = i\n",
        "  listoftime.append(line)\n",
        "  \n",
        "s = []\n",
        "\n",
        "def f_comma(p_string, n=2):\n",
        "    return ':'.join(p_string[i:i+n] for i in range(0, len(p_string), n))\n",
        "for row in listoftime:\n",
        "    line = f_comma(row)\n",
        "    s.append(line)\n"
      ],
      "execution_count": 0,
      "outputs": []
    },
    {
      "metadata": {
        "id": "anEAKgPV874H",
        "colab_type": "code",
        "colab": {}
      },
      "cell_type": "code",
      "source": [
        "from datetime import datetime, time\n",
        "import datetime as dt\n",
        "\n",
        "\n",
        "times_list = [dt.datetime.strptime(row, \"%H:%M\").strftime(\"%I:%M %p\") for row in s]"
      ],
      "execution_count": 0,
      "outputs": []
    },
    {
      "metadata": {
        "id": "yefm44Ok-nGX",
        "colab_type": "code",
        "colab": {}
      },
      "cell_type": "code",
      "source": [
        "data.at['time'] = [times_list]"
      ],
      "execution_count": 0,
      "outputs": []
    },
    {
      "metadata": {
        "id": "Q2nXBy4MAXax",
        "colab_type": "code",
        "colab": {}
      },
      "cell_type": "code",
      "source": [
        "from datetime import datetime, date"
      ],
      "execution_count": 0,
      "outputs": []
    },
    {
      "metadata": {
        "id": "7Db8HoWfBzvH",
        "colab_type": "code",
        "colab": {}
      },
      "cell_type": "code",
      "source": [
        "data['date'] = pd.to_datetime(data['date'],  errors='coerce')"
      ],
      "execution_count": 0,
      "outputs": []
    },
    {
      "metadata": {
        "id": "G1RsIoo4Cg8b",
        "colab_type": "code",
        "colab": {}
      },
      "cell_type": "code",
      "source": [
        "data['year'] = pd.DatetimeIndex(data['date']).year"
      ],
      "execution_count": 0,
      "outputs": []
    },
    {
      "metadata": {
        "id": "Ho82LI-kCvtG",
        "colab_type": "code",
        "colab": {}
      },
      "cell_type": "code",
      "source": [
        "data['month'] = pd.DatetimeIndex(data['date']).month"
      ],
      "execution_count": 0,
      "outputs": []
    },
    {
      "metadata": {
        "id": "kPDUx8dZC2-4",
        "colab_type": "code",
        "colab": {}
      },
      "cell_type": "code",
      "source": [
        "data['day'] = pd.DatetimeIndex(data['date']).dayofweek"
      ],
      "execution_count": 0,
      "outputs": []
    },
    {
      "metadata": {
        "id": "h3ek-t94DHvl",
        "colab_type": "code",
        "colab": {}
      },
      "cell_type": "code",
      "source": [
        "def weekend(day):\n",
        "  if day >= 5:\n",
        "    return 'weekend'\n",
        "  else:\n",
        "    return 'weekday'"
      ],
      "execution_count": 0,
      "outputs": []
    },
    {
      "metadata": {
        "id": "kCvZQyPTDNfs",
        "colab_type": "code",
        "colab": {}
      },
      "cell_type": "code",
      "source": [
        "data['weekend'] = data['day'].apply(weekend)"
      ],
      "execution_count": 0,
      "outputs": []
    },
    {
      "metadata": {
        "id": "J0tJRq7iFFGL",
        "colab_type": "code",
        "colab": {
          "base_uri": "https://localhost:8080/",
          "height": 187
        },
        "outputId": "511d0ab8-b233-45d3-aef1-1327e8da214c"
      },
      "cell_type": "code",
      "source": [
        "data['year'].value_counts()\n",
        "\n",
        "#### 2013 had the most DWI with a pleasingly downwardtrend"
      ],
      "execution_count": 164,
      "outputs": [
        {
          "output_type": "execute_result",
          "data": {
            "text/plain": [
              "2013.0    1333\n",
              "2011.0    1164\n",
              "2012.0    1139\n",
              "2015.0     980\n",
              "2014.0     928\n",
              "2017.0     895\n",
              "2016.0     875\n",
              "2018.0     709\n",
              "2019.0     170\n",
              "Name: year, dtype: int64"
            ]
          },
          "metadata": {
            "tags": []
          },
          "execution_count": 164
        }
      ]
    },
    {
      "metadata": {
        "id": "KaW2qhsvFbiC",
        "colab_type": "code",
        "colab": {}
      },
      "cell_type": "code",
      "source": [
        "import seaborn as sns\n",
        "import matplotlib\n",
        "import matplotlib.pyplot as plt"
      ],
      "execution_count": 0,
      "outputs": []
    },
    {
      "metadata": {
        "id": "NcLMa6lkJ1qC",
        "colab_type": "code",
        "colab": {}
      },
      "cell_type": "code",
      "source": [
        "import folium ###good for plotting maps"
      ],
      "execution_count": 0,
      "outputs": []
    },
    {
      "metadata": {
        "id": "VuG4L7HOQt6K",
        "colab_type": "code",
        "colab": {
          "base_uri": "https://localhost:8080/",
          "height": 238
        },
        "outputId": "d46bdd68-3f0e-4178-f7ed-22bf42ff2ea7"
      },
      "cell_type": "code",
      "source": [
        "data['month'].value_counts()\n",
        "\n",
        "###march is the month with the most DWIs, perhaps because of St. Pattys?"
      ],
      "execution_count": 199,
      "outputs": [
        {
          "output_type": "execute_result",
          "data": {
            "text/plain": [
              "3.0     937\n",
              "2.0     802\n",
              "8.0     726\n",
              "7.0     715\n",
              "4.0     707\n",
              "6.0     690\n",
              "1.0     675\n",
              "5.0     663\n",
              "12.0    629\n",
              "9.0     616\n",
              "11.0    581\n",
              "10.0    452\n",
              "Name: month, dtype: int64"
            ]
          },
          "metadata": {
            "tags": []
          },
          "execution_count": 199
        }
      ]
    },
    {
      "metadata": {
        "id": "ftzOh5prKvdk",
        "colab_type": "code",
        "colab": {
          "base_uri": "https://localhost:8080/",
          "height": 1071
        },
        "outputId": "0f088e0d-3f88-49d7-8d06-d0aa74936235"
      },
      "cell_type": "code",
      "source": [
        "BRcoordinates = (30.4515, -91.1871)\n",
        "\n",
        "### this is what the geolocation data looks like, not sure what to do with it or if I should split it\n",
        "\n",
        "data['geo']"
      ],
      "execution_count": 195,
      "outputs": [
        {
          "output_type": "execute_result",
          "data": {
            "text/plain": [
              "0       {'type': 'Point', 'coordinates': [-91.164393, ...\n",
              "1       {'type': 'Point', 'coordinates': [-91.072055, ...\n",
              "2                                                     NaN\n",
              "3       {'type': 'Point', 'coordinates': [-91.174898, ...\n",
              "4       {'type': 'Point', 'coordinates': [-91.15283, 3...\n",
              "5       {'type': 'Point', 'coordinates': [-91.140592, ...\n",
              "6       {'type': 'Point', 'coordinates': [-91.109076, ...\n",
              "7                                                     NaN\n",
              "8       {'type': 'Point', 'coordinates': [-91.156437, ...\n",
              "9       {'type': 'Point', 'coordinates': [-91.16094, 3...\n",
              "10      {'type': 'Point', 'coordinates': [-91.144903, ...\n",
              "11      {'type': 'Point', 'coordinates': [-91.143259, ...\n",
              "12      {'type': 'Point', 'coordinates': [-91.18213, 3...\n",
              "13      {'type': 'Point', 'coordinates': [-91.096601, ...\n",
              "14                                                    NaN\n",
              "15                                                    NaN\n",
              "16      {'type': 'Point', 'coordinates': [-91.176102, ...\n",
              "17      {'type': 'Point', 'coordinates': [-91.15548, 3...\n",
              "18      {'type': 'Point', 'coordinates': [-91.162741, ...\n",
              "19                                                    NaN\n",
              "20      {'type': 'Point', 'coordinates': [-91.180016, ...\n",
              "21                                                    NaN\n",
              "22      {'type': 'Point', 'coordinates': [-91.172333, ...\n",
              "23      {'type': 'Point', 'coordinates': [-91.153143, ...\n",
              "24      {'type': 'Point', 'coordinates': [-91.19003, 3...\n",
              "25      {'type': 'Point', 'coordinates': [-91.161296, ...\n",
              "26      {'type': 'Point', 'coordinates': [-91.115981, ...\n",
              "27      {'type': 'Point', 'coordinates': [-91.173382, ...\n",
              "28      {'type': 'Point', 'coordinates': [-91.164764, ...\n",
              "29                                                    NaN\n",
              "                              ...                        \n",
              "8164    {'type': 'Point', 'coordinates': [-91.167396, ...\n",
              "8165    {'type': 'Point', 'coordinates': [-91.153762, ...\n",
              "8166    {'type': 'Point', 'coordinates': [-91.051626, ...\n",
              "8167    {'type': 'Point', 'coordinates': [-91.089867, ...\n",
              "8168    {'type': 'Point', 'coordinates': [-91.137056, ...\n",
              "8169    {'type': 'Point', 'coordinates': [-91.151552, ...\n",
              "8170    {'type': 'Point', 'coordinates': [-91.186687, ...\n",
              "8171    {'type': 'Point', 'coordinates': [-91.068704, ...\n",
              "8172    {'type': 'Point', 'coordinates': [-91.129699, ...\n",
              "8173    {'type': 'Point', 'coordinates': [-91.136075, ...\n",
              "8174    {'type': 'Point', 'coordinates': [-91.051002, ...\n",
              "8175    {'type': 'Point', 'coordinates': [-91.126626, ...\n",
              "8176    {'type': 'Point', 'coordinates': [-91.143259, ...\n",
              "8177                                                  NaN\n",
              "8178    {'type': 'Point', 'coordinates': [-91.159429, ...\n",
              "8179    {'type': 'Point', 'coordinates': [-91.110771, ...\n",
              "8180    {'type': 'Point', 'coordinates': [-91.18049, 3...\n",
              "8181    {'type': 'Point', 'coordinates': [-91.160351, ...\n",
              "8182    {'type': 'Point', 'coordinates': [-91.160351, ...\n",
              "8183                                                  NaN\n",
              "8184    {'type': 'Point', 'coordinates': [-91.1043, 30...\n",
              "8185    {'type': 'Point', 'coordinates': [-91.137811, ...\n",
              "8186    {'type': 'Point', 'coordinates': [-91.150448, ...\n",
              "8187    {'type': 'Point', 'coordinates': [-91.15954, 3...\n",
              "8188                                                  NaN\n",
              "8189    {'type': 'Point', 'coordinates': [-91.159712, ...\n",
              "8190    {'type': 'Point', 'coordinates': [-91.151552, ...\n",
              "8191    {'type': 'Point', 'coordinates': [-91.141491, ...\n",
              "8192    {'type': 'Point', 'coordinates': [-91.162141, ...\n",
              "time    [12:14 AM, 11:27 PM, 09:53 PM, 01:47 AM, 03:01...\n",
              "Name: geo, Length: 8194, dtype: object"
            ]
          },
          "metadata": {
            "tags": []
          },
          "execution_count": 195
        }
      ]
    },
    {
      "metadata": {
        "id": "_dYHYW6YQuqv",
        "colab_type": "code",
        "colab": {
          "base_uri": "https://localhost:8080/",
          "height": 34
        },
        "outputId": "4e8dd667-b112-43d2-ce2e-269edfe80323"
      },
      "cell_type": "code",
      "source": [
        "data.shape\n",
        "### 8194 DWIs and 20 columns"
      ],
      "execution_count": 197,
      "outputs": [
        {
          "output_type": "execute_result",
          "data": {
            "text/plain": [
              "(8194, 20)"
            ]
          },
          "metadata": {
            "tags": []
          },
          "execution_count": 197
        }
      ]
    },
    {
      "metadata": {
        "id": "WEOZg83hQ2FO",
        "colab_type": "code",
        "colab": {
          "base_uri": "https://localhost:8080/",
          "height": 547
        },
        "outputId": "74347858-5c99-412d-8b9e-357988e54539"
      },
      "cell_type": "code",
      "source": [
        "data.head()"
      ],
      "execution_count": 198,
      "outputs": [
        {
          "output_type": "execute_result",
          "data": {
            "text/html": [
              "<div>\n",
              "<style scoped>\n",
              "    .dataframe tbody tr th:only-of-type {\n",
              "        vertical-align: middle;\n",
              "    }\n",
              "\n",
              "    .dataframe tbody tr th {\n",
              "        vertical-align: top;\n",
              "    }\n",
              "\n",
              "    .dataframe thead th {\n",
              "        text-align: right;\n",
              "    }\n",
              "</style>\n",
              "<table border=\"1\" class=\"dataframe\">\n",
              "  <thead>\n",
              "    <tr style=\"text-align: right;\">\n",
              "      <th></th>\n",
              "      <th>address</th>\n",
              "      <th>city</th>\n",
              "      <th>crime</th>\n",
              "      <th>ID</th>\n",
              "      <th>geo</th>\n",
              "      <th>address</th>\n",
              "      <th>city</th>\n",
              "      <th>state</th>\n",
              "      <th>zip</th>\n",
              "      <th>date</th>\n",
              "      <th>desc</th>\n",
              "      <th>time</th>\n",
              "      <th>direct</th>\n",
              "      <th>streetname</th>\n",
              "      <th>num</th>\n",
              "      <th>type</th>\n",
              "      <th>year</th>\n",
              "      <th>month</th>\n",
              "      <th>day</th>\n",
              "      <th>weekend</th>\n",
              "    </tr>\n",
              "  </thead>\n",
              "  <tbody>\n",
              "    <tr>\n",
              "      <th>0</th>\n",
              "      <td>300 N 23RD ST</td>\n",
              "      <td>BATON ROUGE</td>\n",
              "      <td>OTHER</td>\n",
              "      <td>1500103215</td>\n",
              "      <td>{'type': 'Point', 'coordinates': [-91.164393, ...</td>\n",
              "      <td>300 N 23RD ST</td>\n",
              "      <td>BATON ROUGE</td>\n",
              "      <td>LA</td>\n",
              "      <td>70802</td>\n",
              "      <td>2015-10-18</td>\n",
              "      <td>D W I /CC</td>\n",
              "      <td>12:14 AM</td>\n",
              "      <td>N</td>\n",
              "      <td>23RD</td>\n",
              "      <td>300</td>\n",
              "      <td>ST</td>\n",
              "      <td>2015.0</td>\n",
              "      <td>10.0</td>\n",
              "      <td>6.0</td>\n",
              "      <td>weekend</td>\n",
              "    </tr>\n",
              "    <tr>\n",
              "      <th>1</th>\n",
              "      <td>10002 FLORIDA BL</td>\n",
              "      <td>BATON ROUGE</td>\n",
              "      <td>OTHER</td>\n",
              "      <td>1400081080</td>\n",
              "      <td>{'type': 'Point', 'coordinates': [-91.072055, ...</td>\n",
              "      <td>10002 FLORIDA BL</td>\n",
              "      <td>BATON ROUGE</td>\n",
              "      <td>LA</td>\n",
              "      <td>NaN</td>\n",
              "      <td>2014-09-13</td>\n",
              "      <td>D W I /CC</td>\n",
              "      <td>11:27 PM</td>\n",
              "      <td>NaN</td>\n",
              "      <td>FLORIDA</td>\n",
              "      <td>10002</td>\n",
              "      <td>BL</td>\n",
              "      <td>2014.0</td>\n",
              "      <td>9.0</td>\n",
              "      <td>5.0</td>\n",
              "      <td>weekend</td>\n",
              "    </tr>\n",
              "    <tr>\n",
              "      <th>2</th>\n",
              "      <td>500 I-10 WEST @ DALRYMPLE OT</td>\n",
              "      <td>BATON ROUGE</td>\n",
              "      <td>OTHER</td>\n",
              "      <td>1300035317</td>\n",
              "      <td>NaN</td>\n",
              "      <td>500 I-10 WEST @ DALRYMPLE OT</td>\n",
              "      <td>BATON ROUGE</td>\n",
              "      <td>LA</td>\n",
              "      <td>70806</td>\n",
              "      <td>2013-04-27</td>\n",
              "      <td>D W I /CC</td>\n",
              "      <td>09:53 PM</td>\n",
              "      <td>NaN</td>\n",
              "      <td>I-10 WEST @ DALRYMPLE</td>\n",
              "      <td>500</td>\n",
              "      <td>OT</td>\n",
              "      <td>2013.0</td>\n",
              "      <td>4.0</td>\n",
              "      <td>5.0</td>\n",
              "      <td>weekend</td>\n",
              "    </tr>\n",
              "    <tr>\n",
              "      <th>3</th>\n",
              "      <td>4300 BURBANK DR</td>\n",
              "      <td>BATON ROUGE</td>\n",
              "      <td>OTHER</td>\n",
              "      <td>1400078076</td>\n",
              "      <td>{'type': 'Point', 'coordinates': [-91.174898, ...</td>\n",
              "      <td>4300 BURBANK DR</td>\n",
              "      <td>BATON ROUGE</td>\n",
              "      <td>LA</td>\n",
              "      <td>NaN</td>\n",
              "      <td>2014-09-05</td>\n",
              "      <td>D W I /CC</td>\n",
              "      <td>01:47 AM</td>\n",
              "      <td>NaN</td>\n",
              "      <td>BURBANK</td>\n",
              "      <td>4300</td>\n",
              "      <td>DR</td>\n",
              "      <td>2014.0</td>\n",
              "      <td>9.0</td>\n",
              "      <td>4.0</td>\n",
              "      <td>weekday</td>\n",
              "    </tr>\n",
              "    <tr>\n",
              "      <th>4</th>\n",
              "      <td>3600 PERKINS RD</td>\n",
              "      <td>BATON ROUGE</td>\n",
              "      <td>OTHER</td>\n",
              "      <td>1300022109</td>\n",
              "      <td>{'type': 'Point', 'coordinates': [-91.15283, 3...</td>\n",
              "      <td>3600 PERKINS RD</td>\n",
              "      <td>BATON ROUGE</td>\n",
              "      <td>LA</td>\n",
              "      <td>70808</td>\n",
              "      <td>2013-03-17</td>\n",
              "      <td>D W I /CC</td>\n",
              "      <td>03:01 AM</td>\n",
              "      <td>NaN</td>\n",
              "      <td>PERKINS</td>\n",
              "      <td>3600</td>\n",
              "      <td>RD</td>\n",
              "      <td>2013.0</td>\n",
              "      <td>3.0</td>\n",
              "      <td>6.0</td>\n",
              "      <td>weekend</td>\n",
              "    </tr>\n",
              "  </tbody>\n",
              "</table>\n",
              "</div>"
            ],
            "text/plain": [
              "                        address         city  crime          ID  \\\n",
              "0                 300 N 23RD ST  BATON ROUGE  OTHER  1500103215   \n",
              "1              10002 FLORIDA BL  BATON ROUGE  OTHER  1400081080   \n",
              "2  500 I-10 WEST @ DALRYMPLE OT  BATON ROUGE  OTHER  1300035317   \n",
              "3               4300 BURBANK DR  BATON ROUGE  OTHER  1400078076   \n",
              "4               3600 PERKINS RD  BATON ROUGE  OTHER  1300022109   \n",
              "\n",
              "                                                 geo  \\\n",
              "0  {'type': 'Point', 'coordinates': [-91.164393, ...   \n",
              "1  {'type': 'Point', 'coordinates': [-91.072055, ...   \n",
              "2                                                NaN   \n",
              "3  {'type': 'Point', 'coordinates': [-91.174898, ...   \n",
              "4  {'type': 'Point', 'coordinates': [-91.15283, 3...   \n",
              "\n",
              "                        address         city state    zip       date  \\\n",
              "0                 300 N 23RD ST  BATON ROUGE    LA  70802 2015-10-18   \n",
              "1              10002 FLORIDA BL  BATON ROUGE    LA    NaN 2014-09-13   \n",
              "2  500 I-10 WEST @ DALRYMPLE OT  BATON ROUGE    LA  70806 2013-04-27   \n",
              "3               4300 BURBANK DR  BATON ROUGE    LA    NaN 2014-09-05   \n",
              "4               3600 PERKINS RD  BATON ROUGE    LA  70808 2013-03-17   \n",
              "\n",
              "        desc      time direct             streetname    num type    year  \\\n",
              "0  D W I /CC  12:14 AM      N                   23RD    300   ST  2015.0   \n",
              "1  D W I /CC  11:27 PM    NaN                FLORIDA  10002   BL  2014.0   \n",
              "2  D W I /CC  09:53 PM    NaN  I-10 WEST @ DALRYMPLE    500   OT  2013.0   \n",
              "3  D W I /CC  01:47 AM    NaN                BURBANK   4300   DR  2014.0   \n",
              "4  D W I /CC  03:01 AM    NaN                PERKINS   3600   RD  2013.0   \n",
              "\n",
              "   month  day  weekend  \n",
              "0   10.0  6.0  weekend  \n",
              "1    9.0  5.0  weekend  \n",
              "2    4.0  5.0  weekend  \n",
              "3    9.0  4.0  weekday  \n",
              "4    3.0  6.0  weekend  "
            ]
          },
          "metadata": {
            "tags": []
          },
          "execution_count": 198
        }
      ]
    }
  ]
}